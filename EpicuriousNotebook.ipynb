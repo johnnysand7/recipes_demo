{
 "cells": [
  {
   "cell_type": "markdown",
   "metadata": {},
   "source": [
    "# Scraped Data\n",
    "Read in the data written to the `recipes` Postgres table sourced from Epicurious"
   ]
  },
  {
   "cell_type": "code",
   "execution_count": 1,
   "metadata": {},
   "outputs": [],
   "source": [
    "import matplotlib.pyplot as plt\n",
    "import psycopg2 as pg\n",
    "import pandas as pd\n",
    "import re"
   ]
  },
  {
   "cell_type": "code",
   "execution_count": 2,
   "metadata": {},
   "outputs": [],
   "source": [
    "def as_url(row):\n",
    "    \"\"\"Helper to create a link to check on the Epicurious site\n",
    "    from a DataFrame row\n",
    "    \"\"\"\n",
    "    print(\"https://www.epicurious.com/\" + row['path'].rstrip('.html'))\n",
    "    return None"
   ]
  },
  {
   "cell_type": "code",
   "execution_count": 3,
   "metadata": {},
   "outputs": [],
   "source": [
    "conn = pg.connect('host=localhost dbname=reciplease user=johnny')"
   ]
  },
  {
   "cell_type": "code",
   "execution_count": 4,
   "metadata": {},
   "outputs": [],
   "source": [
    "df = pd.read_sql_query(\"\"\"\n",
    "        SELECT\n",
    "            path,\n",
    "            title,\n",
    "            ingredients,\n",
    "            instructions,\n",
    "            misc\n",
    "        FROM recipes\n",
    "        WHERE domain = 'www.epicurious.com'\n",
    "        \"\"\",\n",
    "        conn\n",
    ")"
   ]
  },
  {
   "cell_type": "code",
   "execution_count": 5,
   "metadata": {},
   "outputs": [],
   "source": [
    "conn.close()"
   ]
  },
  {
   "cell_type": "code",
   "execution_count": 6,
   "metadata": {},
   "outputs": [
    {
     "data": {
      "text/html": [
       "<div>\n",
       "<style scoped>\n",
       "    .dataframe tbody tr th:only-of-type {\n",
       "        vertical-align: middle;\n",
       "    }\n",
       "\n",
       "    .dataframe tbody tr th {\n",
       "        vertical-align: top;\n",
       "    }\n",
       "\n",
       "    .dataframe thead th {\n",
       "        text-align: right;\n",
       "    }\n",
       "</style>\n",
       "<table border=\"1\" class=\"dataframe\">\n",
       "  <thead>\n",
       "    <tr style=\"text-align: right;\">\n",
       "      <th></th>\n",
       "      <th>path</th>\n",
       "      <th>title</th>\n",
       "      <th>ingredients</th>\n",
       "      <th>instructions</th>\n",
       "      <th>misc</th>\n",
       "    </tr>\n",
       "  </thead>\n",
       "  <tbody>\n",
       "    <tr>\n",
       "      <th>0</th>\n",
       "      <td>recipes/food/views/blue-cheese-and-caramelized...</td>\n",
       "      <td>Blue Cheese and Caramelized-Onion Squares</td>\n",
       "      <td>{'Crust': ['2 cups all purpose flour', '2 teas...</td>\n",
       "      <td>{'For crust:': ['Preheat oven to 425°F. Mix fl...</td>\n",
       "      <td>{'servings': 'Makes 42 squares', 'description'...</td>\n",
       "    </tr>\n",
       "    <tr>\n",
       "      <th>1</th>\n",
       "      <td>recipes/food/views/cornmeal-and-chile-cumin-co...</td>\n",
       "      <td>Cornmeal-and-Chile-Cumin Coated Pork Loin</td>\n",
       "      <td>{'part_1': ['1 1/4 lb boneless pork loin, trim...</td>\n",
       "      <td>{'part_1': ['Preheat oven to 350°F.', 'Pat por...</td>\n",
       "      <td>{'servings': 'Makes 4 servings', 'prep_time': ...</td>\n",
       "    </tr>\n",
       "    <tr>\n",
       "      <th>2</th>\n",
       "      <td>recipes/food/views/beet-and-jicama-on-endive-w...</td>\n",
       "      <td>Beet and Jícama on Endive with Garlic Yogurt D...</td>\n",
       "      <td>{'For dressing:': ['32 ounces whole-milk plain...</td>\n",
       "      <td>{'Make dressing:': ['Drain yogurt in a large s...</td>\n",
       "      <td>{'servings': 'Serves 50', 'prep_time': '1 hour...</td>\n",
       "    </tr>\n",
       "    <tr>\n",
       "      <th>3</th>\n",
       "      <td>recipes/food/views/pate-sucree-51123640.html</td>\n",
       "      <td>Pâte Sucrée</td>\n",
       "      <td>{'part_1': ['3 large egg yolks', '1/4 cup heav...</td>\n",
       "      <td>{'part_1': ['Whisk egg yolks and cream in a sm...</td>\n",
       "      <td>{'servings': 'Makes 2 crusts', 'author': 'Suza...</td>\n",
       "    </tr>\n",
       "    <tr>\n",
       "      <th>4</th>\n",
       "      <td>recipes/food/views/candied-spicy-walnuts-23415...</td>\n",
       "      <td>Candied Spicy Walnuts</td>\n",
       "      <td>{'part_1': ['2 cups water', '2 cups sugar', '1...</td>\n",
       "      <td>{'part_1': ['Combine 2 cups water, sugar, and ...</td>\n",
       "      <td>{'servings': 'Makes 2 cups', 'author': 'Nancy ...</td>\n",
       "    </tr>\n",
       "  </tbody>\n",
       "</table>\n",
       "</div>"
      ],
      "text/plain": [
       "                                                path  \\\n",
       "0  recipes/food/views/blue-cheese-and-caramelized...   \n",
       "1  recipes/food/views/cornmeal-and-chile-cumin-co...   \n",
       "2  recipes/food/views/beet-and-jicama-on-endive-w...   \n",
       "3       recipes/food/views/pate-sucree-51123640.html   \n",
       "4  recipes/food/views/candied-spicy-walnuts-23415...   \n",
       "\n",
       "                                               title  \\\n",
       "0          Blue Cheese and Caramelized-Onion Squares   \n",
       "1          Cornmeal-and-Chile-Cumin Coated Pork Loin   \n",
       "2  Beet and Jícama on Endive with Garlic Yogurt D...   \n",
       "3                                        Pâte Sucrée   \n",
       "4                              Candied Spicy Walnuts   \n",
       "\n",
       "                                         ingredients  \\\n",
       "0  {'Crust': ['2 cups all purpose flour', '2 teas...   \n",
       "1  {'part_1': ['1 1/4 lb boneless pork loin, trim...   \n",
       "2  {'For dressing:': ['32 ounces whole-milk plain...   \n",
       "3  {'part_1': ['3 large egg yolks', '1/4 cup heav...   \n",
       "4  {'part_1': ['2 cups water', '2 cups sugar', '1...   \n",
       "\n",
       "                                        instructions  \\\n",
       "0  {'For crust:': ['Preheat oven to 425°F. Mix fl...   \n",
       "1  {'part_1': ['Preheat oven to 350°F.', 'Pat por...   \n",
       "2  {'Make dressing:': ['Drain yogurt in a large s...   \n",
       "3  {'part_1': ['Whisk egg yolks and cream in a sm...   \n",
       "4  {'part_1': ['Combine 2 cups water, sugar, and ...   \n",
       "\n",
       "                                                misc  \n",
       "0  {'servings': 'Makes 42 squares', 'description'...  \n",
       "1  {'servings': 'Makes 4 servings', 'prep_time': ...  \n",
       "2  {'servings': 'Serves 50', 'prep_time': '1 hour...  \n",
       "3  {'servings': 'Makes 2 crusts', 'author': 'Suza...  \n",
       "4  {'servings': 'Makes 2 cups', 'author': 'Nancy ...  "
      ]
     },
     "execution_count": 6,
     "metadata": {},
     "output_type": "execute_result"
    }
   ],
   "source": [
    "df.head()"
   ]
  },
  {
   "cell_type": "code",
   "execution_count": 7,
   "metadata": {},
   "outputs": [
    {
     "name": "stdout",
     "output_type": "stream",
     "text": [
      "36373\n"
     ]
    }
   ],
   "source": [
    "print(len(df))"
   ]
  },
  {
   "cell_type": "markdown",
   "metadata": {},
   "source": [
    "## Missing Values\n",
    "Ideally no titles or ingredient lists are missing"
   ]
  },
  {
   "cell_type": "code",
   "execution_count": 8,
   "metadata": {},
   "outputs": [
    {
     "name": "stdout",
     "output_type": "stream",
     "text": [
      "97\n"
     ]
    }
   ],
   "source": [
    "missing_ingredients = df[df.ingredients.isna()]\n",
    "print(len(missing_ingredients))"
   ]
  },
  {
   "cell_type": "markdown",
   "metadata": {},
   "source": [
    "Not awful out of 36,000 recipes, but still check a few:"
   ]
  },
  {
   "cell_type": "code",
   "execution_count": 9,
   "metadata": {},
   "outputs": [
    {
     "data": {
      "text/html": [
       "<div>\n",
       "<style scoped>\n",
       "    .dataframe tbody tr th:only-of-type {\n",
       "        vertical-align: middle;\n",
       "    }\n",
       "\n",
       "    .dataframe tbody tr th {\n",
       "        vertical-align: top;\n",
       "    }\n",
       "\n",
       "    .dataframe thead th {\n",
       "        text-align: right;\n",
       "    }\n",
       "</style>\n",
       "<table border=\"1\" class=\"dataframe\">\n",
       "  <thead>\n",
       "    <tr style=\"text-align: right;\">\n",
       "      <th></th>\n",
       "      <th>path</th>\n",
       "      <th>title</th>\n",
       "      <th>ingredients</th>\n",
       "      <th>instructions</th>\n",
       "      <th>misc</th>\n",
       "    </tr>\n",
       "  </thead>\n",
       "  <tbody>\n",
       "    <tr>\n",
       "      <th>138</th>\n",
       "      <td>recipes/food/views/to-sterilize-jars-and-lids-...</td>\n",
       "      <td>To Sterilize Jars and Lids</td>\n",
       "      <td>None</td>\n",
       "      <td>{'part_1': ['Wash jars thoroughly in hot suds ...</td>\n",
       "      <td>{'description': 'This recipe can be prepared i...</td>\n",
       "    </tr>\n",
       "    <tr>\n",
       "      <th>305</th>\n",
       "      <td>recipes/food/views/maple-and-black-pepper-baco...</td>\n",
       "      <td>Maple and Black-Pepper Bacon</td>\n",
       "      <td>None</td>\n",
       "      <td>{'part_1': ['Preheat oven to 375°F with racks ...</td>\n",
       "      <td>{'servings': 'Makes 8 servings', 'prep_time': ...</td>\n",
       "    </tr>\n",
       "    <tr>\n",
       "      <th>521</th>\n",
       "      <td>recipes/food/views/boiled-carrots-with-prepare...</td>\n",
       "      <td>Boiled Carrots with Prepared Horseradish</td>\n",
       "      <td>None</td>\n",
       "      <td>{'part_1': ['Cut 3 medium carrots into 1/4-inc...</td>\n",
       "      <td>{'author': 'Todd Gray\n",
       "Ellen Kassoff Gray', 'de...</td>\n",
       "    </tr>\n",
       "    <tr>\n",
       "      <th>761</th>\n",
       "      <td>recipes/food/views/broiled-whole-lobster-10174...</td>\n",
       "      <td>Broiled Whole Lobster</td>\n",
       "      <td>None</td>\n",
       "      <td>{'part_1': ['Lobster is usually split before b...</td>\n",
       "      <td>{'author': 'James Beard', 'rating': 0.5, 'make...</td>\n",
       "    </tr>\n",
       "    <tr>\n",
       "      <th>1762</th>\n",
       "      <td>recipes/food/views/to-carve-a-rib-roast-15825....</td>\n",
       "      <td>To Carve a Rib Roast</td>\n",
       "      <td>None</td>\n",
       "      <td>{'part_1': ['For all its grandeur, a standing ...</td>\n",
       "      <td>{'rating': 0.625, 'make_again': 1.0, 'ratings'...</td>\n",
       "    </tr>\n",
       "  </tbody>\n",
       "</table>\n",
       "</div>"
      ],
      "text/plain": [
       "                                                   path  \\\n",
       "138   recipes/food/views/to-sterilize-jars-and-lids-...   \n",
       "305   recipes/food/views/maple-and-black-pepper-baco...   \n",
       "521   recipes/food/views/boiled-carrots-with-prepare...   \n",
       "761   recipes/food/views/broiled-whole-lobster-10174...   \n",
       "1762  recipes/food/views/to-carve-a-rib-roast-15825....   \n",
       "\n",
       "                                         title ingredients  \\\n",
       "138                 To Sterilize Jars and Lids        None   \n",
       "305               Maple and Black-Pepper Bacon        None   \n",
       "521   Boiled Carrots with Prepared Horseradish        None   \n",
       "761                      Broiled Whole Lobster        None   \n",
       "1762                      To Carve a Rib Roast        None   \n",
       "\n",
       "                                           instructions  \\\n",
       "138   {'part_1': ['Wash jars thoroughly in hot suds ...   \n",
       "305   {'part_1': ['Preheat oven to 375°F with racks ...   \n",
       "521   {'part_1': ['Cut 3 medium carrots into 1/4-inc...   \n",
       "761   {'part_1': ['Lobster is usually split before b...   \n",
       "1762  {'part_1': ['For all its grandeur, a standing ...   \n",
       "\n",
       "                                                   misc  \n",
       "138   {'description': 'This recipe can be prepared i...  \n",
       "305   {'servings': 'Makes 8 servings', 'prep_time': ...  \n",
       "521   {'author': 'Todd Gray\n",
       "Ellen Kassoff Gray', 'de...  \n",
       "761   {'author': 'James Beard', 'rating': 0.5, 'make...  \n",
       "1762  {'rating': 0.625, 'make_again': 1.0, 'ratings'...  "
      ]
     },
     "execution_count": 9,
     "metadata": {},
     "output_type": "execute_result"
    }
   ],
   "source": [
    "missing_ingredients.head()"
   ]
  },
  {
   "cell_type": "code",
   "execution_count": 10,
   "metadata": {},
   "outputs": [
    {
     "name": "stdout",
     "output_type": "stream",
     "text": [
      "https://www.epicurious.com/recipes/food/views/to-sterilize-jars-and-lids-101506\n",
      "https://www.epicurious.com/recipes/food/views/maple-and-black-pepper-bacon-350874\n",
      "https://www.epicurious.com/recipes/food/views/boiled-carrots-with-prepared-horseradish-51154600\n",
      "https://www.epicurious.com/recipes/food/views/broiled-whole-lobster-101747\n",
      "https://www.epicurious.com/recipes/food/views/to-carve-a-rib-roast-15825\n"
     ]
    },
    {
     "data": {
      "text/plain": [
       "138     None\n",
       "305     None\n",
       "521     None\n",
       "761     None\n",
       "1762    None\n",
       "dtype: object"
      ]
     },
     "execution_count": 10,
     "metadata": {},
     "output_type": "execute_result"
    }
   ],
   "source": [
    "missing_ingredients.head().apply(as_url, axis=1)"
   ]
  },
  {
   "cell_type": "markdown",
   "metadata": {},
   "source": [
    "All 5 examples above had no ingredients on the page, so I am not too worried about the rest of the examples."
   ]
  },
  {
   "cell_type": "code",
   "execution_count": 11,
   "metadata": {},
   "outputs": [
    {
     "name": "stdout",
     "output_type": "stream",
     "text": [
      "3\n"
     ]
    }
   ],
   "source": [
    "missing_titles = df[df.title.isna()]\n",
    "print(len(missing_titles))"
   ]
  },
  {
   "cell_type": "code",
   "execution_count": 12,
   "metadata": {},
   "outputs": [
    {
     "data": {
      "text/html": [
       "<div>\n",
       "<style scoped>\n",
       "    .dataframe tbody tr th:only-of-type {\n",
       "        vertical-align: middle;\n",
       "    }\n",
       "\n",
       "    .dataframe tbody tr th {\n",
       "        vertical-align: top;\n",
       "    }\n",
       "\n",
       "    .dataframe thead th {\n",
       "        text-align: right;\n",
       "    }\n",
       "</style>\n",
       "<table border=\"1\" class=\"dataframe\">\n",
       "  <thead>\n",
       "    <tr style=\"text-align: right;\">\n",
       "      <th></th>\n",
       "      <th>path</th>\n",
       "      <th>title</th>\n",
       "      <th>ingredients</th>\n",
       "      <th>instructions</th>\n",
       "      <th>misc</th>\n",
       "    </tr>\n",
       "  </thead>\n",
       "  <tbody>\n",
       "    <tr>\n",
       "      <th>6455</th>\n",
       "      <td>recipes/seared-scallops-with-tomato-water-lime...</td>\n",
       "      <td>None</td>\n",
       "      <td>None</td>\n",
       "      <td>None</td>\n",
       "      <td>{}</td>\n",
       "    </tr>\n",
       "    <tr>\n",
       "      <th>32024</th>\n",
       "      <td>search?page=768.html</td>\n",
       "      <td>None</td>\n",
       "      <td>None</td>\n",
       "      <td>None</td>\n",
       "      <td>{}</td>\n",
       "    </tr>\n",
       "    <tr>\n",
       "      <th>35387</th>\n",
       "      <td>search?page=1848.html</td>\n",
       "      <td>None</td>\n",
       "      <td>None</td>\n",
       "      <td>None</td>\n",
       "      <td>{}</td>\n",
       "    </tr>\n",
       "  </tbody>\n",
       "</table>\n",
       "</div>"
      ],
      "text/plain": [
       "                                                    path title ingredients  \\\n",
       "6455   recipes/seared-scallops-with-tomato-water-lime...  None        None   \n",
       "32024                               search?page=768.html  None        None   \n",
       "35387                              search?page=1848.html  None        None   \n",
       "\n",
       "      instructions misc  \n",
       "6455          None   {}  \n",
       "32024         None   {}  \n",
       "35387         None   {}  "
      ]
     },
     "execution_count": 12,
     "metadata": {},
     "output_type": "execute_result"
    }
   ],
   "source": [
    "missing_titles"
   ]
  },
  {
   "cell_type": "markdown",
   "metadata": {},
   "source": [
    "Looks like I accidentally had a few search pages in that directory and can ignore. That other links appears to be dead, so I'm not too worried about that one either.\n",
    "\n",
    "Drop rows with missing `title` and `ingredients` for now."
   ]
  },
  {
   "cell_type": "code",
   "execution_count": 13,
   "metadata": {},
   "outputs": [],
   "source": [
    "del missing_titles\n",
    "del missing_ingredients"
   ]
  },
  {
   "cell_type": "code",
   "execution_count": 14,
   "metadata": {},
   "outputs": [],
   "source": [
    "df.dropna(axis=0, subset=['title', 'ingredients'], inplace=True)\n",
    "# Reset the index, dropping the old\n",
    "df.reset_index(inplace=True, drop=True)"
   ]
  },
  {
   "cell_type": "markdown",
   "metadata": {},
   "source": [
    "## Redundant Titles\n",
    "Check a few examples of recipes sharing a title; ideally their ingredients and instructions are still unique"
   ]
  },
  {
   "cell_type": "code",
   "execution_count": 15,
   "metadata": {},
   "outputs": [
    {
     "data": {
      "text/plain": [
       "Pastry Dough           24\n",
       "Chicken Stock          20\n",
       "Simple Syrup           14\n",
       "Salsa Verde            13\n",
       "Turkey Stock           12\n",
       "Turkey Giblet Stock    12\n",
       "Pizza Dough            11\n",
       "Caramel Sauce           9\n",
       "Pickled Red Onions      8\n",
       "Chocolate Glaze         8\n",
       "Name: title, dtype: int64"
      ]
     },
     "execution_count": 15,
     "metadata": {},
     "output_type": "execute_result"
    }
   ],
   "source": [
    "df.title.value_counts()[:10]"
   ]
  },
  {
   "cell_type": "markdown",
   "metadata": {},
   "source": [
    "Most seem generic enough; look at a few to ensure they are not duplicates:"
   ]
  },
  {
   "cell_type": "code",
   "execution_count": 16,
   "metadata": {},
   "outputs": [
    {
     "data": {
      "text/html": [
       "<div>\n",
       "<style scoped>\n",
       "    .dataframe tbody tr th:only-of-type {\n",
       "        vertical-align: middle;\n",
       "    }\n",
       "\n",
       "    .dataframe tbody tr th {\n",
       "        vertical-align: top;\n",
       "    }\n",
       "\n",
       "    .dataframe thead th {\n",
       "        text-align: right;\n",
       "    }\n",
       "</style>\n",
       "<table border=\"1\" class=\"dataframe\">\n",
       "  <thead>\n",
       "    <tr style=\"text-align: right;\">\n",
       "      <th></th>\n",
       "      <th>path</th>\n",
       "      <th>title</th>\n",
       "      <th>ingredients</th>\n",
       "      <th>instructions</th>\n",
       "      <th>misc</th>\n",
       "    </tr>\n",
       "  </thead>\n",
       "  <tbody>\n",
       "    <tr>\n",
       "      <th>1722</th>\n",
       "      <td>recipes/food/views/pastry-dough-107043.html</td>\n",
       "      <td>Pastry Dough</td>\n",
       "      <td>{'part_1': ['2 1/2 cups all-purpose flour', '1...</td>\n",
       "      <td>{'part_1': ['Blend together flour, butter, sho...</td>\n",
       "      <td>{'servings': 'Makes enough for 1 double-crust ...</td>\n",
       "    </tr>\n",
       "    <tr>\n",
       "      <th>10391</th>\n",
       "      <td>recipes/food/views/pastry-dough-108789.html</td>\n",
       "      <td>Pastry Dough</td>\n",
       "      <td>{'part_1': ['1 1/4 cups all-purpose flour', '3...</td>\n",
       "      <td>{'part_1': ['Blend together flour, butter, sho...</td>\n",
       "      <td>{'servings': 'Makes enough dough for 1 (9-inch...</td>\n",
       "    </tr>\n",
       "    <tr>\n",
       "      <th>10718</th>\n",
       "      <td>recipes/food/views/pastry-dough-103700.html</td>\n",
       "      <td>Pastry Dough</td>\n",
       "      <td>{'part_1': ['2 1/2 cups all-purpose flour', '1...</td>\n",
       "      <td>{'part_1': ['Blend together flour, butter, sho...</td>\n",
       "      <td>{'servings': 'Makes enough for a double-crust ...</td>\n",
       "    </tr>\n",
       "    <tr>\n",
       "      <th>11748</th>\n",
       "      <td>recipes/food/views/pastry-dough-14445.html</td>\n",
       "      <td>Pastry Dough</td>\n",
       "      <td>{'part_1': ['3/4 stick (6 tablespoons) cold un...</td>\n",
       "      <td>{'part_1': ['Cut butter into 1/2-inch cubes.']...</td>\n",
       "      <td>{'servings': 'Makes enough for a single crust ...</td>\n",
       "    </tr>\n",
       "    <tr>\n",
       "      <th>12885</th>\n",
       "      <td>recipes/food/views/pastry-dough-108423.html</td>\n",
       "      <td>Pastry Dough</td>\n",
       "      <td>{'part_1': ['2 1/2 cups all-purpose flour', '1...</td>\n",
       "      <td>{'part_1': ['Blend together flour, butter, sho...</td>\n",
       "      <td>{'servings': 'Makes enough for 1 double-crust ...</td>\n",
       "    </tr>\n",
       "    <tr>\n",
       "      <th>13210</th>\n",
       "      <td>recipes/food/views/pastry-dough-14185.html</td>\n",
       "      <td>Pastry Dough</td>\n",
       "      <td>{'part_1': ['1 1/4 cups all-purpose flour', '3...</td>\n",
       "      <td>{'part_1': ['In a bowl with a pastry blender o...</td>\n",
       "      <td>{'servings': 'Makes enough dough for a single-...</td>\n",
       "    </tr>\n",
       "    <tr>\n",
       "      <th>14388</th>\n",
       "      <td>recipes/food/views/pastry-dough-105948.html</td>\n",
       "      <td>Pastry Dough</td>\n",
       "      <td>{'part_1': ['1 1/4 cups all-purpose flour', '3...</td>\n",
       "      <td>{'part_1': ['Blend together flour, butter, sho...</td>\n",
       "      <td>{'servings': 'Makes enough dough for a single-...</td>\n",
       "    </tr>\n",
       "    <tr>\n",
       "      <th>14852</th>\n",
       "      <td>recipes/food/views/pastry-dough-350598.html</td>\n",
       "      <td>Pastry Dough</td>\n",
       "      <td>{'part_1': ['2 1/2 cups all-purpose flour', '2...</td>\n",
       "      <td>{'part_1': ['Blend together flour, butter, and...</td>\n",
       "      <td>{'servings': 'Makes enough for 1 (9-inch) doub...</td>\n",
       "    </tr>\n",
       "    <tr>\n",
       "      <th>15305</th>\n",
       "      <td>recipes/food/views/pastry-dough-15720.html</td>\n",
       "      <td>Pastry Dough</td>\n",
       "      <td>{'part_1': ['3/4 stick (6 tablespoons) cold un...</td>\n",
       "      <td>{'part_1': ['Cut butter into 1/2-inch cubes.']...</td>\n",
       "      <td>{'servings': 'Makes enough dough for a single-...</td>\n",
       "    </tr>\n",
       "    <tr>\n",
       "      <th>16948</th>\n",
       "      <td>recipes/food/views/pastry-dough-101453.html</td>\n",
       "      <td>Pastry Dough</td>\n",
       "      <td>{'part_1': ['3/4 stick (6 tablespoons) cold un...</td>\n",
       "      <td>{'part_1': ['Cut butter into 1/2-inch cubes.']...</td>\n",
       "      <td>{'servings': 'Makes enough dough to decorate 2...</td>\n",
       "    </tr>\n",
       "  </tbody>\n",
       "</table>\n",
       "</div>"
      ],
      "text/plain": [
       "                                              path         title  \\\n",
       "1722   recipes/food/views/pastry-dough-107043.html  Pastry Dough   \n",
       "10391  recipes/food/views/pastry-dough-108789.html  Pastry Dough   \n",
       "10718  recipes/food/views/pastry-dough-103700.html  Pastry Dough   \n",
       "11748   recipes/food/views/pastry-dough-14445.html  Pastry Dough   \n",
       "12885  recipes/food/views/pastry-dough-108423.html  Pastry Dough   \n",
       "13210   recipes/food/views/pastry-dough-14185.html  Pastry Dough   \n",
       "14388  recipes/food/views/pastry-dough-105948.html  Pastry Dough   \n",
       "14852  recipes/food/views/pastry-dough-350598.html  Pastry Dough   \n",
       "15305   recipes/food/views/pastry-dough-15720.html  Pastry Dough   \n",
       "16948  recipes/food/views/pastry-dough-101453.html  Pastry Dough   \n",
       "\n",
       "                                             ingredients  \\\n",
       "1722   {'part_1': ['2 1/2 cups all-purpose flour', '1...   \n",
       "10391  {'part_1': ['1 1/4 cups all-purpose flour', '3...   \n",
       "10718  {'part_1': ['2 1/2 cups all-purpose flour', '1...   \n",
       "11748  {'part_1': ['3/4 stick (6 tablespoons) cold un...   \n",
       "12885  {'part_1': ['2 1/2 cups all-purpose flour', '1...   \n",
       "13210  {'part_1': ['1 1/4 cups all-purpose flour', '3...   \n",
       "14388  {'part_1': ['1 1/4 cups all-purpose flour', '3...   \n",
       "14852  {'part_1': ['2 1/2 cups all-purpose flour', '2...   \n",
       "15305  {'part_1': ['3/4 stick (6 tablespoons) cold un...   \n",
       "16948  {'part_1': ['3/4 stick (6 tablespoons) cold un...   \n",
       "\n",
       "                                            instructions  \\\n",
       "1722   {'part_1': ['Blend together flour, butter, sho...   \n",
       "10391  {'part_1': ['Blend together flour, butter, sho...   \n",
       "10718  {'part_1': ['Blend together flour, butter, sho...   \n",
       "11748  {'part_1': ['Cut butter into 1/2-inch cubes.']...   \n",
       "12885  {'part_1': ['Blend together flour, butter, sho...   \n",
       "13210  {'part_1': ['In a bowl with a pastry blender o...   \n",
       "14388  {'part_1': ['Blend together flour, butter, sho...   \n",
       "14852  {'part_1': ['Blend together flour, butter, and...   \n",
       "15305  {'part_1': ['Cut butter into 1/2-inch cubes.']...   \n",
       "16948  {'part_1': ['Cut butter into 1/2-inch cubes.']...   \n",
       "\n",
       "                                                    misc  \n",
       "1722   {'servings': 'Makes enough for 1 double-crust ...  \n",
       "10391  {'servings': 'Makes enough dough for 1 (9-inch...  \n",
       "10718  {'servings': 'Makes enough for a double-crust ...  \n",
       "11748  {'servings': 'Makes enough for a single crust ...  \n",
       "12885  {'servings': 'Makes enough for 1 double-crust ...  \n",
       "13210  {'servings': 'Makes enough dough for a single-...  \n",
       "14388  {'servings': 'Makes enough dough for a single-...  \n",
       "14852  {'servings': 'Makes enough for 1 (9-inch) doub...  \n",
       "15305  {'servings': 'Makes enough dough for a single-...  \n",
       "16948  {'servings': 'Makes enough dough to decorate 2...  "
      ]
     },
     "execution_count": 16,
     "metadata": {},
     "output_type": "execute_result"
    }
   ],
   "source": [
    "df[df.title == 'Pastry Dough'][:10]"
   ]
  },
  {
   "cell_type": "code",
   "execution_count": 17,
   "metadata": {},
   "outputs": [
    {
     "data": {
      "text/html": [
       "<div>\n",
       "<style scoped>\n",
       "    .dataframe tbody tr th:only-of-type {\n",
       "        vertical-align: middle;\n",
       "    }\n",
       "\n",
       "    .dataframe tbody tr th {\n",
       "        vertical-align: top;\n",
       "    }\n",
       "\n",
       "    .dataframe thead th {\n",
       "        text-align: right;\n",
       "    }\n",
       "</style>\n",
       "<table border=\"1\" class=\"dataframe\">\n",
       "  <thead>\n",
       "    <tr style=\"text-align: right;\">\n",
       "      <th></th>\n",
       "      <th>path</th>\n",
       "      <th>title</th>\n",
       "      <th>ingredients</th>\n",
       "      <th>instructions</th>\n",
       "      <th>misc</th>\n",
       "    </tr>\n",
       "  </thead>\n",
       "  <tbody>\n",
       "    <tr>\n",
       "      <th>1307</th>\n",
       "      <td>recipes/food/views/french-75-233902.html</td>\n",
       "      <td>French 75</td>\n",
       "      <td>{'part_1': ['1 tablespoon fresh lemon juice', ...</td>\n",
       "      <td>{'part_1': ['In cocktail shaker, combine lemon...</td>\n",
       "      <td>{'servings': 'Serves 1', 'description': 'This ...</td>\n",
       "    </tr>\n",
       "    <tr>\n",
       "      <th>12894</th>\n",
       "      <td>recipes/food/views/french-75-200324.html</td>\n",
       "      <td>French 75</td>\n",
       "      <td>{'part_1': ['Crushed ice', '1 1/2 ounces dry g...</td>\n",
       "      <td>{'part_1': ['Half-fill a 14-ounce collins glas...</td>\n",
       "      <td>{'servings': 'Serves 1. Variations: French 95:...</td>\n",
       "    </tr>\n",
       "    <tr>\n",
       "      <th>16694</th>\n",
       "      <td>recipes/food/views/french-75-242668.html</td>\n",
       "      <td>French 75</td>\n",
       "      <td>{'part_1': ['1 lemon', '3 tablespoons (1 1/2 o...</td>\n",
       "      <td>{'part_1': ['Using zester or paring knife, sli...</td>\n",
       "      <td>{'servings': 'Serves 1', 'author': 'Eben Freem...</td>\n",
       "    </tr>\n",
       "    <tr>\n",
       "      <th>20871</th>\n",
       "      <td>recipes/food/views/french-75-champagne-cocktai...</td>\n",
       "      <td>French 75</td>\n",
       "      <td>{'part_1': ['2 ounces London dry gin', '3/4 ou...</td>\n",
       "      <td>{'part_1': ['Combine gin, lemon juice, and sim...</td>\n",
       "      <td>{'servings': 'Makes 1', 'author': 'Chris Moroc...</td>\n",
       "    </tr>\n",
       "    <tr>\n",
       "      <th>22701</th>\n",
       "      <td>recipes/food/views/french-75-230612.html</td>\n",
       "      <td>French 75</td>\n",
       "      <td>{'part_1': ['1 cup water', '1 cup sugar'], 'pa...</td>\n",
       "      <td>{'part_1': ['Stir 1 cup water and 1 cup sugar ...</td>\n",
       "      <td>{'servings': 'Serves 8', 'rating': 1.0, 'make_...</td>\n",
       "    </tr>\n",
       "    <tr>\n",
       "      <th>24609</th>\n",
       "      <td>recipes/food/views/french-75-104363.html</td>\n",
       "      <td>French 75</td>\n",
       "      <td>{'part_1': ['Crushed ice', '1 1/2 ounces dry g...</td>\n",
       "      <td>{'part_1': ['Half-fill a 14-ounce collins glas...</td>\n",
       "      <td>{'servings': 'Makes one drink', 'rating': 0.75...</td>\n",
       "    </tr>\n",
       "    <tr>\n",
       "      <th>31150</th>\n",
       "      <td>recipes/food/views/french-75-367734.html</td>\n",
       "      <td>French 75</td>\n",
       "      <td>{'part_1': ['1 cup gin', '1/2 cup No-Cook Simp...</td>\n",
       "      <td>{'part_1': ['Stir 1 cup gin, 1/2 cup No-Cook S...</td>\n",
       "      <td>{'servings': 'Makes 8 servings', 'author': 'Bo...</td>\n",
       "    </tr>\n",
       "    <tr>\n",
       "      <th>34624</th>\n",
       "      <td>recipes/food/views/french-75-102791.html</td>\n",
       "      <td>French 75</td>\n",
       "      <td>{'part_1': ['Crushed ice', '1 1/2 ounces dry g...</td>\n",
       "      <td>{'part_1': ['Half-fill a 14-ounce collins glas...</td>\n",
       "      <td>{'servings': 'Serves 1', 'rating': 0.875, 'mak...</td>\n",
       "    </tr>\n",
       "  </tbody>\n",
       "</table>\n",
       "</div>"
      ],
      "text/plain": [
       "                                                    path      title  \\\n",
       "1307            recipes/food/views/french-75-233902.html  French 75   \n",
       "12894           recipes/food/views/french-75-200324.html  French 75   \n",
       "16694           recipes/food/views/french-75-242668.html  French 75   \n",
       "20871  recipes/food/views/french-75-champagne-cocktai...  French 75   \n",
       "22701           recipes/food/views/french-75-230612.html  French 75   \n",
       "24609           recipes/food/views/french-75-104363.html  French 75   \n",
       "31150           recipes/food/views/french-75-367734.html  French 75   \n",
       "34624           recipes/food/views/french-75-102791.html  French 75   \n",
       "\n",
       "                                             ingredients  \\\n",
       "1307   {'part_1': ['1 tablespoon fresh lemon juice', ...   \n",
       "12894  {'part_1': ['Crushed ice', '1 1/2 ounces dry g...   \n",
       "16694  {'part_1': ['1 lemon', '3 tablespoons (1 1/2 o...   \n",
       "20871  {'part_1': ['2 ounces London dry gin', '3/4 ou...   \n",
       "22701  {'part_1': ['1 cup water', '1 cup sugar'], 'pa...   \n",
       "24609  {'part_1': ['Crushed ice', '1 1/2 ounces dry g...   \n",
       "31150  {'part_1': ['1 cup gin', '1/2 cup No-Cook Simp...   \n",
       "34624  {'part_1': ['Crushed ice', '1 1/2 ounces dry g...   \n",
       "\n",
       "                                            instructions  \\\n",
       "1307   {'part_1': ['In cocktail shaker, combine lemon...   \n",
       "12894  {'part_1': ['Half-fill a 14-ounce collins glas...   \n",
       "16694  {'part_1': ['Using zester or paring knife, sli...   \n",
       "20871  {'part_1': ['Combine gin, lemon juice, and sim...   \n",
       "22701  {'part_1': ['Stir 1 cup water and 1 cup sugar ...   \n",
       "24609  {'part_1': ['Half-fill a 14-ounce collins glas...   \n",
       "31150  {'part_1': ['Stir 1 cup gin, 1/2 cup No-Cook S...   \n",
       "34624  {'part_1': ['Half-fill a 14-ounce collins glas...   \n",
       "\n",
       "                                                    misc  \n",
       "1307   {'servings': 'Serves 1', 'description': 'This ...  \n",
       "12894  {'servings': 'Serves 1. Variations: French 95:...  \n",
       "16694  {'servings': 'Serves 1', 'author': 'Eben Freem...  \n",
       "20871  {'servings': 'Makes 1', 'author': 'Chris Moroc...  \n",
       "22701  {'servings': 'Serves 8', 'rating': 1.0, 'make_...  \n",
       "24609  {'servings': 'Makes one drink', 'rating': 0.75...  \n",
       "31150  {'servings': 'Makes 8 servings', 'author': 'Bo...  \n",
       "34624  {'servings': 'Serves 1', 'rating': 0.875, 'mak...  "
      ]
     },
     "execution_count": 17,
     "metadata": {},
     "output_type": "execute_result"
    }
   ],
   "source": [
    "df[df.title == 'French 75'][:10]"
   ]
  },
  {
   "cell_type": "markdown",
   "metadata": {},
   "source": [
    "Both examples look like they are still separate recipes."
   ]
  },
  {
   "cell_type": "markdown",
   "metadata": {},
   "source": [
    "## Recipe Parts\n",
    "Some recipes come in multiple parts (e.g., a pie recipe might have a section for the filling and a separte for the crust).\n",
    "\n",
    "I was curious how common this was, so even if a recipe had one section I still included it under a generic `part_1` key"
   ]
  },
  {
   "cell_type": "code",
   "execution_count": 18,
   "metadata": {},
   "outputs": [],
   "source": [
    "df['ingredient_parts_count'] = df.ingredients.map(lambda x: len(x))"
   ]
  },
  {
   "cell_type": "code",
   "execution_count": 19,
   "metadata": {},
   "outputs": [
    {
     "data": {
      "text/plain": [
       "1     20184\n",
       "2      9297\n",
       "3      4390\n",
       "4      1704\n",
       "5       502\n",
       "6       134\n",
       "7        40\n",
       "8        13\n",
       "9         8\n",
       "10        2\n",
       "12        1\n",
       "0         1\n",
       "Name: ingredient_parts_count, dtype: int64"
      ]
     },
     "execution_count": 19,
     "metadata": {},
     "output_type": "execute_result"
    }
   ],
   "source": [
    "df.ingredient_parts_count.value_counts()"
   ]
  },
  {
   "cell_type": "markdown",
   "metadata": {},
   "source": [
    "Check that 12 part recipe to see it's not a fluke:"
   ]
  },
  {
   "cell_type": "code",
   "execution_count": 20,
   "metadata": {},
   "outputs": [
    {
     "name": "stdout",
     "output_type": "stream",
     "text": [
      "https://www.epicurious.com/recipes/food/views/lemon-berry-wedding-cake-101874\n"
     ]
    },
    {
     "data": {
      "text/plain": [
       "23626    None\n",
       "dtype: object"
      ]
     },
     "execution_count": 20,
     "metadata": {},
     "output_type": "execute_result"
    }
   ],
   "source": [
    "df[df.ingredient_parts_count == 12].apply(as_url, axis=1)"
   ]
  },
  {
   "cell_type": "markdown",
   "metadata": {},
   "source": [
    "Looks like it's just a fancy recipe!"
   ]
  },
  {
   "cell_type": "markdown",
   "metadata": {},
   "source": [
    "## Ingredient Counts\n",
    "Ingredient counts could be helpful for searching recipes, such as a checkbox for preferring simpler recipes"
   ]
  },
  {
   "cell_type": "code",
   "execution_count": 21,
   "metadata": {},
   "outputs": [],
   "source": [
    "def ingredient_count(ingredients):\n",
    "    \"\"\"Return a total count of ingredients summed for each part\n",
    "    \"\"\"\n",
    "    return sum(\n",
    "        [len(ing_list) for ing_list in ingredients.values()]\n",
    "    )"
   ]
  },
  {
   "cell_type": "code",
   "execution_count": 22,
   "metadata": {},
   "outputs": [],
   "source": [
    "df['ingredient_count'] = df.ingredients.map(lambda x: ingredient_count(x))"
   ]
  },
  {
   "cell_type": "code",
   "execution_count": 23,
   "metadata": {},
   "outputs": [
    {
     "data": {
      "text/plain": [
       "9     3621\n",
       "8     3595\n",
       "7     3429\n",
       "10    3147\n",
       "6     3131\n",
       "11    2798\n",
       "5     2556\n",
       "12    2333\n",
       "13    1917\n",
       "4     1789\n",
       "Name: ingredient_count, dtype: int64"
      ]
     },
     "execution_count": 23,
     "metadata": {},
     "output_type": "execute_result"
    }
   ],
   "source": [
    "total_counts = df.ingredient_count.value_counts()\n",
    "total_counts[:10]"
   ]
  },
  {
   "cell_type": "code",
   "execution_count": 24,
   "metadata": {},
   "outputs": [],
   "source": [
    "mean_count = df.ingredient_count.mean()"
   ]
  },
  {
   "cell_type": "code",
   "execution_count": 25,
   "metadata": {},
   "outputs": [
    {
     "data": {
      "image/png": "[encoded data removed]",
      "text/plain": [
       "<Figure size 720x576 with 1 Axes>"
      ]
     },
     "metadata": {
      "needs_background": "light"
     },
     "output_type": "display_data"
    }
   ],
   "source": [
    "plt.figure(figsize=(10, 8))\n",
    "plt.hist(df.ingredient_count,\n",
    "         bins=50,\n",
    "         density=True,\n",
    "         facecolor='lightblue')\n",
    "plt.axvline(mean_count,\n",
    "            label=f\"Average count: {round(mean_count, 1)}\")\n",
    "plt.title('Ingredient Counts for 36,000 Recipes',\n",
    "          fontsize=15)\n",
    "plt.xlabel('Ingredient Count',\n",
    "           fontsize=12)\n",
    "plt.ylabel('Relative Frequency',\n",
    "           fontsize=12)\n",
    "plt.legend(loc='upper right',\n",
    "           fontsize=12)\n",
    "plt.show()"
   ]
  },
  {
   "cell_type": "markdown",
   "metadata": {},
   "source": [
    "Right-skewed with an average of ~9.8 ingredients per recipe."
   ]
  }
 ],
 "metadata": {
  "kernelspec": {
   "display_name": "Python 3",
   "language": "python",
   "name": "python3"
  },
  "language_info": {
   "codemirror_mode": {
    "name": "ipython",
    "version": 3
   },
   "file_extension": ".py",
   "mimetype": "text/x-python",
   "name": "python",
   "nbconvert_exporter": "python",
   "pygments_lexer": "ipython3",
   "version": "3.7.3"
  }
 },
 "nbformat": 4,
 "nbformat_minor": 2
}
